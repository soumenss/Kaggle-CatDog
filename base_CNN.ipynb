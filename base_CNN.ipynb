{
 "cells": [
  {
   "cell_type": "code",
   "execution_count": 1,
   "id": "1345f5a3",
   "metadata": {},
   "outputs": [],
   "source": [
    "import numpy as np\n",
    "import pandas as pd\n",
    "\n",
    "from os import listdir\n",
    "from numpy import asarray\n",
    "from numpy import save\n",
    "from tensorflow.keras.preprocessing.image import load_img\n",
    "from tensorflow.keras.preprocessing.image import img_to_array\n",
    "# from tqdm import tqdm\n",
    "\n",
    "from os import makedirs\n",
    "from os import listdir\n",
    "from random import random\n",
    "from shutil import copyfile\n",
    "import random\n",
    "\n",
    "import sys\n",
    "# from matplotlib import pyplot\n",
    "from tensorflow.keras.utils import to_categorical\n",
    "from tensorflow.keras.models import Sequential\n",
    "from tensorflow.keras.layers import Conv2D\n",
    "from tensorflow.keras.layers import MaxPooling2D\n",
    "from tensorflow.keras.layers import Dense\n",
    "from tensorflow.keras.layers import Flatten\n",
    "from tensorflow.keras.layers import Dropout\n",
    "from tensorflow.keras.optimizers import SGD\n",
    "from tensorflow.keras.preprocessing.image import ImageDataGenerator"
   ]
  },
  {
   "cell_type": "code",
   "execution_count": 5,
   "id": "360943fb",
   "metadata": {},
   "outputs": [],
   "source": [
    "# src = 'train/'\n",
    "# dataset = 'CatDogDF/'\n",
    "# subdirs = ['train/', 'val/']\n",
    "# labeldirs = ['cats/', 'dogs/']\n",
    "\n",
    "# for subdir in subdirs:\n",
    "#     for labeldir in labeldirs:\n",
    "#         newdir = dataset + subdir + labeldir\n",
    "#         makedirs(newdir, exist_ok = True)"
   ]
  },
  {
   "cell_type": "code",
   "execution_count": 6,
   "id": "dcf58004",
   "metadata": {},
   "outputs": [
    {
     "name": "stderr",
     "output_type": "stream",
     "text": [
      "100%|██████████████████████████████████████████████████████████████████████████| 25000/25000 [00:19<00:00, 1273.28it/s]\n"
     ]
    }
   ],
   "source": [
    "# random.seed(5)\n",
    "# val_ratio = 0.2\n",
    "# files = listdir(src)\n",
    "# # print(len(files))\n",
    "# random.shuffle(files)\n",
    "\n",
    "# for file in tqdm(files):\n",
    "#     srcpath = src + file\n",
    "#     if random.random() < val_ratio: subfolder1 = 'val/'\n",
    "#     else: subfolder1 = 'train/'\n",
    "#     if file.startswith('cat'): subfolder2 = 'cats/'\n",
    "#     else: subfolder2 = 'dogs/'\n",
    "#     destpath = 'CatDogDF/' + subfolder1 + subfolder2 + file\n",
    "#     copyfile(srcpath, destpath)"
   ]
  },
  {
   "cell_type": "code",
   "execution_count": 6,
   "id": "d5c3578a",
   "metadata": {},
   "outputs": [],
   "source": [
    "# def summarize_diagnostics(history):\n",
    "#     pyplot.subplot(211)\n",
    "#     pyplot.title('Cross Entropy Loss')\n",
    "#     pyplot.plot(history.history['loss'], color='blue', label='train')\n",
    "#     pyplot.plot(history.history['val_loss'], color='orange', label='test')\n",
    "#     # plot accuracy\n",
    "#     pyplot.subplot(212)\n",
    "#     pyplot.title('Classification Accuracy')\n",
    "#     pyplot.plot(history.history['accuracy'], color='blue', label='train')\n",
    "#     pyplot.plot(history.history['val_accuracy'], color='orange', label='test')\n",
    "#     pyplot.show()"
   ]
  },
  {
   "cell_type": "code",
   "execution_count": 2,
   "id": "4fff18e9",
   "metadata": {},
   "outputs": [
    {
     "name": "stdout",
     "output_type": "stream",
     "text": [
      "Model: \"sequential\"\n",
      "_________________________________________________________________\n",
      "Layer (type)                 Output Shape              Param #   \n",
      "=================================================================\n",
      "conv2d (Conv2D)              (None, 200, 200, 32)      896       \n",
      "_________________________________________________________________\n",
      "max_pooling2d (MaxPooling2D) (None, 100, 100, 32)      0         \n",
      "_________________________________________________________________\n",
      "dropout (Dropout)            (None, 100, 100, 32)      0         \n",
      "_________________________________________________________________\n",
      "conv2d_1 (Conv2D)            (None, 100, 100, 64)      18496     \n",
      "_________________________________________________________________\n",
      "max_pooling2d_1 (MaxPooling2 (None, 50, 50, 64)        0         \n",
      "_________________________________________________________________\n",
      "dropout_1 (Dropout)          (None, 50, 50, 64)        0         \n",
      "_________________________________________________________________\n",
      "conv2d_2 (Conv2D)            (None, 50, 50, 128)       73856     \n",
      "_________________________________________________________________\n",
      "max_pooling2d_2 (MaxPooling2 (None, 25, 25, 128)       0         \n",
      "_________________________________________________________________\n",
      "dropout_2 (Dropout)          (None, 25, 25, 128)       0         \n",
      "_________________________________________________________________\n",
      "conv2d_3 (Conv2D)            (None, 25, 25, 256)       295168    \n",
      "_________________________________________________________________\n",
      "max_pooling2d_3 (MaxPooling2 (None, 12, 12, 256)       0         \n",
      "_________________________________________________________________\n",
      "dropout_3 (Dropout)          (None, 12, 12, 256)       0         \n",
      "_________________________________________________________________\n",
      "conv2d_4 (Conv2D)            (None, 12, 12, 512)       1180160   \n",
      "_________________________________________________________________\n",
      "max_pooling2d_4 (MaxPooling2 (None, 6, 6, 512)         0         \n",
      "_________________________________________________________________\n",
      "dropout_4 (Dropout)          (None, 6, 6, 512)         0         \n",
      "_________________________________________________________________\n",
      "flatten (Flatten)            (None, 18432)             0         \n",
      "_________________________________________________________________\n",
      "dense (Dense)                (None, 300)               5529900   \n",
      "_________________________________________________________________\n",
      "dropout_5 (Dropout)          (None, 300)               0         \n",
      "_________________________________________________________________\n",
      "dense_1 (Dense)              (None, 1)                 301       \n",
      "=================================================================\n",
      "Total params: 7,098,777\n",
      "Trainable params: 7,098,777\n",
      "Non-trainable params: 0\n",
      "_________________________________________________________________\n"
     ]
    }
   ],
   "source": [
    "model = Sequential()\n",
    "model.add(Conv2D(32, (3, 3), activation='relu', kernel_initializer='he_uniform', padding='same', input_shape=(200, 200, 3)))\n",
    "model.add(MaxPooling2D((2, 2)))\n",
    "model.add(Dropout(0.2))\n",
    "model.add(Conv2D(64, (3, 3), activation='relu', kernel_initializer='he_uniform', padding= 'same'))\n",
    "model.add(MaxPooling2D((2, 2)))\n",
    "model.add(Dropout(0.2))\n",
    "model.add(Conv2D(128, (3, 3), activation='relu', kernel_initializer='he_uniform', padding= 'same'))\n",
    "model.add(MaxPooling2D((2, 2)))\n",
    "model.add(Dropout(0.2))\n",
    "model.add(Conv2D(256, (3, 3), activation='relu', kernel_initializer='he_uniform', padding= 'same'))\n",
    "model.add(MaxPooling2D((2, 2)))\n",
    "model.add(Dropout(0.2))\n",
    "model.add(Conv2D(512, (3, 3), activation='relu', kernel_initializer='he_uniform', padding= 'same'))\n",
    "model.add(MaxPooling2D((2, 2)))\n",
    "model.add(Dropout(0.2))\n",
    "# model.add(Conv2D(512, (3, 3), activation='relu', kernel_initializer='he_uniform', padding= 'same'))\n",
    "# model.add(MaxPooling2D((2, 2)))\n",
    "# model.add(Dropout(0.2))\n",
    "model.add(Flatten())\n",
    "model.add(Dense(300, activation='relu', kernel_initializer='he_uniform'))\n",
    "model.add(Dropout(0.5))\n",
    "\n",
    "model.add(Dense(1, activation='sigmoid'))\n",
    "opt = SGD(learning_rate=0.001, momentum=0.9)\n",
    "model.compile(optimizer=opt, loss='binary_crossentropy', metrics=['accuracy'])\n",
    "\n",
    "model.summary()"
   ]
  },
  {
   "cell_type": "code",
   "execution_count": 5,
   "id": "3821df6f",
   "metadata": {},
   "outputs": [
    {
     "name": "stdout",
     "output_type": "stream",
     "text": [
      "Found 20014 images belonging to 2 classes.\n",
      "Found 4986 images belonging to 2 classes.\n"
     ]
    }
   ],
   "source": [
    "# create data generator\n",
    "datagen = ImageDataGenerator(rescale=1.0/255.0, rotation_range= 20, width_shift_range=0.1, height_shift_range=0.1, \n",
    "                             zoom_range=0.1, horizontal_flip= True)\n",
    "# datagen = ImageDataGenerator(rescale=1.0/255.0)\n",
    "# prepare iterators\n",
    "train_it = datagen.flow_from_directory('CatDogDF/train/', class_mode='binary', batch_size=128,\n",
    "                                       target_size=(200, 200), shuffle = True)\n",
    "test_it = datagen.flow_from_directory('CatDogDF/val/', class_mode='binary', batch_size=128,\n",
    "                                      target_size=(200, 200), shuffle = True)"
   ]
  },
  {
   "cell_type": "code",
   "execution_count": null,
   "id": "4396606a",
   "metadata": {},
   "outputs": [
    {
     "name": "stdout",
     "output_type": "stream",
     "text": [
      "Epoch 1/100\n",
      "157/157 [==============================] - 319s 2s/step - loss: 0.6902 - accuracy: 0.5301 - val_loss: 0.6914 - val_accuracy: 0.5471\n",
      "Epoch 2/100\n",
      " 47/157 [=======>......................] - ETA: 3:05 - loss: 0.6868 - accuracy: 0.5444"
     ]
    }
   ],
   "source": [
    "history = model.fit(train_it, steps_per_epoch=len(train_it), validation_data=test_it,\n",
    "                              validation_steps=len(test_it), epochs=100, verbose=1)\n",
    "\n",
    "\n",
    "# evaluate model\n",
    "# _, acc = model.evaluate_generator(test_it, steps=len(test_it), verbose=2)\n",
    "# print('> %.3f' % (acc * 100.0))\n",
    "\n",
    "# learning curves\n",
    "# summarize_diagnostics(history)"
   ]
  },
  {
   "cell_type": "code",
   "execution_count": 9,
   "id": "5b8628c6",
   "metadata": {},
   "outputs": [],
   "source": []
  },
  {
   "cell_type": "code",
   "execution_count": 14,
   "id": "68574c41",
   "metadata": {},
   "outputs": [
    {
     "name": "stdout",
     "output_type": "stream",
     "text": [
      "\n",
      "\n",
      "\n",
      " System Information\n",
      "===============================================================\n",
      "Tesorflow Version: 2.5.0\n",
      "Availabe GPU Status: name: \"/device:GPU:0\"\n",
      "device_type: \"GPU\"\n",
      "memory_limit: 3660972032\n",
      "locality {\n",
      "  bus_id: 1\n",
      "  links {\n",
      "  }\n",
      "}\n",
      "incarnation: 16425326855962268098\n",
      "physical_device_desc: \"device: 0, name: NVIDIA GeForce RTX 3060 Laptop GPU, pci bus id: 0000:01:00.0, compute capability: 8.6\"\n",
      "\n",
      "===============================================================\n",
      "\n",
      "\n"
     ]
    }
   ],
   "source": [
    "from tensorflow.python.client import device_lib\n",
    "import tensorflow\n",
    "\n",
    "def device_status():\n",
    "\n",
    "    available_devices = device_lib.list_local_devices()\n",
    "\n",
    "    print('\\n\\n\\n System Information')\n",
    "    print('===============================================================')\n",
    "    print(f'Tesorflow Version: {tensorflow.__version__}')\n",
    "    gpu_flag = 0\n",
    "    for device in available_devices:\n",
    "\n",
    "        if (device.device_type == 'GPU'):\n",
    "\n",
    "            print(f'Availabe GPU Status: {device}')\n",
    "            gpu_flag = gpu_flag + 1\n",
    "\n",
    "    if (gpu_flag==0):\n",
    "        print('No GPU detected. Running on CPU')\n",
    "\n",
    "    print('===============================================================')\n",
    "    print('\\n')\n",
    "\n",
    "    \n",
    "device_status()"
   ]
  },
  {
   "cell_type": "code",
   "execution_count": 16,
   "id": "73a6f673",
   "metadata": {},
   "outputs": [
    {
     "data": {
      "text/plain": [
       "[name: \"/device:CPU:0\"\n",
       " device_type: \"CPU\"\n",
       " memory_limit: 268435456\n",
       " locality {\n",
       " }\n",
       " incarnation: 4250960102226021309,\n",
       " name: \"/device:GPU:0\"\n",
       " device_type: \"GPU\"\n",
       " memory_limit: 3660972032\n",
       " locality {\n",
       "   bus_id: 1\n",
       "   links {\n",
       "   }\n",
       " }\n",
       " incarnation: 25280257675146684\n",
       " physical_device_desc: \"device: 0, name: NVIDIA GeForce RTX 3060 Laptop GPU, pci bus id: 0000:01:00.0, compute capability: 8.6\"]"
      ]
     },
     "execution_count": 16,
     "metadata": {},
     "output_type": "execute_result"
    }
   ],
   "source": [
    "device_lib.list_local_devices()"
   ]
  },
  {
   "cell_type": "code",
   "execution_count": null,
   "id": "a81f549d",
   "metadata": {},
   "outputs": [],
   "source": []
  }
 ],
 "metadata": {
  "kernelspec": {
   "display_name": "tf",
   "language": "python",
   "name": "tf"
  },
  "language_info": {
   "codemirror_mode": {
    "name": "ipython",
    "version": 3
   },
   "file_extension": ".py",
   "mimetype": "text/x-python",
   "name": "python",
   "nbconvert_exporter": "python",
   "pygments_lexer": "ipython3",
   "version": "3.9.6"
  }
 },
 "nbformat": 4,
 "nbformat_minor": 5
}
